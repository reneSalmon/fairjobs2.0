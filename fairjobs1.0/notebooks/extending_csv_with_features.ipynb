{
 "cells": [
  {
   "cell_type": "code",
   "execution_count": null,
   "id": "22327524",
   "metadata": {},
   "outputs": [],
   "source": []
  },
  {
   "cell_type": "code",
   "execution_count": 2,
   "id": "6b5adec6",
   "metadata": {
    "scrolled": true
   },
   "outputs": [
    {
     "data": {
      "text/plain": [
       "'/Users/datascienceuser/code/reneSalmon/fairjobs/notebooks'"
      ]
     },
     "execution_count": 2,
     "metadata": {},
     "output_type": "execute_result"
    }
   ],
   "source": [
    "pwd"
   ]
  },
  {
   "cell_type": "code",
   "execution_count": 3,
   "id": "3845454f",
   "metadata": {},
   "outputs": [
    {
     "ename": "SyntaxError",
     "evalue": "invalid syntax (1913720410.py, line 1)",
     "output_type": "error",
     "traceback": [
      "\u001b[0;36m  File \u001b[0;32m\"/var/folders/8z/mmndjc5s37g3q_x0_bsjy3500000gp/T/ipykernel_47324/1913720410.py\"\u001b[0;36m, line \u001b[0;32m1\u001b[0m\n\u001b[0;31m    from ../features import criteria_percentage_count\u001b[0m\n\u001b[0m           ^\u001b[0m\n\u001b[0;31mSyntaxError\u001b[0m\u001b[0;31m:\u001b[0m invalid syntax\n"
     ]
    }
   ],
   "source": [
    "from ../features import criteria_percentage_count"
   ]
  },
  {
   "cell_type": "code",
   "execution_count": null,
   "id": "ecaa0297",
   "metadata": {},
   "outputs": [],
   "source": [
    "#basemodel.to_csv('/content/drive/MyDrive/Colab Notebooks/data/basemodel_crit.csv')"
   ]
  },
  {
   "cell_type": "code",
   "execution_count": null,
   "id": "98b7df0f",
   "metadata": {},
   "outputs": [],
   "source": [
    "#compression_opts = dict(method='zip',\n",
    "                        archive_name='basemodel_crit.csv')  \n",
    "#basemodel.to_csv('/content/drive/MyDrive/Colab Notebooks/data/basemodel_crit.zip', index=False,\n",
    "          compression=compression_opts) "
   ]
  }
 ],
 "metadata": {
  "kernelspec": {
   "display_name": "Python 3 (ipykernel)",
   "language": "python",
   "name": "python3"
  },
  "language_info": {
   "codemirror_mode": {
    "name": "ipython",
    "version": 3
   },
   "file_extension": ".py",
   "mimetype": "text/x-python",
   "name": "python",
   "nbconvert_exporter": "python",
   "pygments_lexer": "ipython3",
   "version": "3.8.6"
  }
 },
 "nbformat": 4,
 "nbformat_minor": 5
}
