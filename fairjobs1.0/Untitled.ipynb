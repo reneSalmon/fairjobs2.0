{
 "cells": [
  {
   "cell_type": "code",
   "execution_count": null,
   "id": "4291f5fe",
   "metadata": {},
   "outputs": [],
   "source": [
    "#Import monster job_database to access job_offers\n",
    "job_database = '../raw_data/monster_com-job_sample_3.csv'\n",
    "\n",
    "#Create indexing filter\n",
    "Key word: job title\n",
    "\n",
    "#Create search function\n",
    "def get_similar_articles(q, df):\n",
    "  print(\"query:\", q)\n",
    "  print(\"Berikut artikel dengan nilai cosine similarity tertinggi: \")  # Convert the query become a vector\n",
    "  q = [q]\n",
    "  q_vec = vectorizer.transform(q).toarray().reshape(df.shape[0],)\n",
    "  sim = {}  # Calculate the similarity\n",
    "  for i in range(10):\n",
    "    sim[i] = np.dot(df.loc[:, i].values, q_vec) / np.linalg.norm(df.loc[:, i]) * np.linalg.norm(q_vec)\n",
    "  \n",
    "  # Sort the values \n",
    "  sim_sorted = sorted(sim.items(), key=lambda x: x[1], reverse=True)  # Print the articles and their similarity values\n",
    "  for k, v in sim_sorted:\n",
    "    if v != 0.0:\n",
    "      print(\"Nilai Similaritas:\", v)\n",
    "      print(docs[k])\n",
    "      print()# Call the function\n",
    "get_similar_articles(q1, df)\n",
    "\n",
    "\n",
    "#Create output dataframe\n",
    "\n",
    "\n",
    "#Create markdown Toogle to see job describtion\n",
    "\n",
    "\n",
    "#Add Css for color coding for filter words\n"
   ]
  }
 ],
 "metadata": {
  "kernelspec": {
   "display_name": "Python 3 (ipykernel)",
   "language": "python",
   "name": "python3"
  },
  "language_info": {
   "codemirror_mode": {
    "name": "ipython",
    "version": 3
   },
   "file_extension": ".py",
   "mimetype": "text/x-python",
   "name": "python",
   "nbconvert_exporter": "python",
   "pygments_lexer": "ipython3",
   "version": "3.8.6"
  },
  "toc": {
   "base_numbering": 1,
   "nav_menu": {},
   "number_sections": true,
   "sideBar": true,
   "skip_h1_title": false,
   "title_cell": "Table of Contents",
   "title_sidebar": "Contents",
   "toc_cell": false,
   "toc_position": {},
   "toc_section_display": true,
   "toc_window_display": false
  }
 },
 "nbformat": 4,
 "nbformat_minor": 5
}
