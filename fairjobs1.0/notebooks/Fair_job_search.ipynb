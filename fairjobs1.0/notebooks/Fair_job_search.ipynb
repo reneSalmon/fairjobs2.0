{
 "cells": [
  {
   "cell_type": "markdown",
   "metadata": {
    "id": "Ys8fcP99CgK5"
   },
   "source": [
    "Using datasets from Kaggle. \n",
    "Trying to improve upon the idea of simply filtering for gender based words.\n",
    "Looking for other datasets?\n",
    "\n"
   ]
  },
  {
   "cell_type": "code",
   "execution_count": 1,
   "metadata": {
    "colab": {
     "base_uri": "https://localhost:8080/"
    },
    "id": "-5pe-TSVLzSW",
    "outputId": "e5fbb1c3-43d4-4502-b386-dca7ea8db50a"
   },
   "outputs": [
    {
     "name": "stdout",
     "output_type": "stream",
     "text": [
      "Collecting unidecode\n",
      "  Downloading Unidecode-1.2.0-py2.py3-none-any.whl (241 kB)\n",
      "\u001b[?25l\r",
      "\u001b[K     |█▍                              | 10 kB 28.7 MB/s eta 0:00:01\r",
      "\u001b[K     |██▊                             | 20 kB 29.3 MB/s eta 0:00:01\r",
      "\u001b[K     |████                            | 30 kB 31.6 MB/s eta 0:00:01\r",
      "\u001b[K     |█████▍                          | 40 kB 33.2 MB/s eta 0:00:01\r",
      "\u001b[K     |██████▉                         | 51 kB 34.3 MB/s eta 0:00:01\r",
      "\u001b[K     |████████▏                       | 61 kB 33.5 MB/s eta 0:00:01\r",
      "\u001b[K     |█████████▌                      | 71 kB 33.3 MB/s eta 0:00:01\r",
      "\u001b[K     |██████████▉                     | 81 kB 34.6 MB/s eta 0:00:01\r",
      "\u001b[K     |████████████▏                   | 92 kB 35.1 MB/s eta 0:00:01\r",
      "\u001b[K     |█████████████▋                  | 102 kB 36.8 MB/s eta 0:00:01\r",
      "\u001b[K     |███████████████                 | 112 kB 36.8 MB/s eta 0:00:01\r",
      "\u001b[K     |████████████████▎               | 122 kB 36.8 MB/s eta 0:00:01\r",
      "\u001b[K     |█████████████████▋              | 133 kB 36.8 MB/s eta 0:00:01\r",
      "\u001b[K     |███████████████████             | 143 kB 36.8 MB/s eta 0:00:01\r",
      "\u001b[K     |████████████████████▍           | 153 kB 36.8 MB/s eta 0:00:01\r",
      "\u001b[K     |█████████████████████▊          | 163 kB 36.8 MB/s eta 0:00:01\r",
      "\u001b[K     |███████████████████████         | 174 kB 36.8 MB/s eta 0:00:01\r",
      "\u001b[K     |████████████████████████▍       | 184 kB 36.8 MB/s eta 0:00:01\r",
      "\u001b[K     |█████████████████████████▊      | 194 kB 36.8 MB/s eta 0:00:01\r",
      "\u001b[K     |███████████████████████████▏    | 204 kB 36.8 MB/s eta 0:00:01\r",
      "\u001b[K     |████████████████████████████▌   | 215 kB 36.8 MB/s eta 0:00:01\r",
      "\u001b[K     |█████████████████████████████▉  | 225 kB 36.8 MB/s eta 0:00:01\r",
      "\u001b[K     |███████████████████████████████▏| 235 kB 36.8 MB/s eta 0:00:01\r",
      "\u001b[K     |████████████████████████████████| 241 kB 36.8 MB/s \n",
      "\u001b[?25hInstalling collected packages: unidecode\n",
      "Successfully installed unidecode-1.2.0\n"
     ]
    }
   ],
   "source": [
    "pip install unidecode"
   ]
  },
  {
   "cell_type": "code",
   "execution_count": 2,
   "metadata": {
    "colab": {
     "base_uri": "https://localhost:8080/"
    },
    "id": "nAyarwazO6Wa",
    "outputId": "7ded29fc-a50c-4a69-d112-96ee2c484a5c"
   },
   "outputs": [
    {
     "name": "stdout",
     "output_type": "stream",
     "text": [
      "Requirement already satisfied: gensim in /usr/local/lib/python3.7/dist-packages (3.6.0)\n",
      "Collecting gensim\n",
      "  Downloading gensim-4.0.1-cp37-cp37m-manylinux1_x86_64.whl (23.9 MB)\n",
      "\u001b[K     |████████████████████████████████| 23.9 MB 97 kB/s \n",
      "\u001b[?25hRequirement already satisfied: numpy>=1.11.3 in /usr/local/lib/python3.7/dist-packages (from gensim) (1.19.5)\n",
      "Requirement already satisfied: smart-open>=1.8.1 in /usr/local/lib/python3.7/dist-packages (from gensim) (5.1.0)\n",
      "Requirement already satisfied: scipy>=0.18.1 in /usr/local/lib/python3.7/dist-packages (from gensim) (1.4.1)\n",
      "Installing collected packages: gensim\n",
      "  Attempting uninstall: gensim\n",
      "    Found existing installation: gensim 3.6.0\n",
      "    Uninstalling gensim-3.6.0:\n",
      "      Successfully uninstalled gensim-3.6.0\n",
      "Successfully installed gensim-4.0.1\n"
     ]
    }
   ],
   "source": [
    "pip install --upgrade gensim"
   ]
  },
  {
   "cell_type": "code",
   "execution_count": 29,
   "metadata": {
    "id": "jGmwSQTQIZdg"
   },
   "outputs": [],
   "source": [
    "from nltk.tokenize import word_tokenize\n",
    "from nltk.corpus import stopwords \n",
    "# nltk.download('punkt')\n",
    "import pandas as pd\n",
    "# import json\n",
    "import numpy as np\n",
    "import string\n",
    "import unidecode\n",
    "import re"
   ]
  },
  {
   "cell_type": "code",
   "execution_count": 4,
   "metadata": {
    "colab": {
     "base_uri": "https://localhost:8080/"
    },
    "id": "ax32TmmOMckf",
    "outputId": "b38f9988-075e-4f2a-e416-fc2500bf6da1"
   },
   "outputs": [
    {
     "name": "stdout",
     "output_type": "stream",
     "text": [
      "[nltk_data] Downloading package punkt to /root/nltk_data...\n",
      "[nltk_data]   Unzipping tokenizers/punkt.zip.\n",
      "[nltk_data] Downloading package stopwords to /root/nltk_data...\n",
      "[nltk_data]   Unzipping corpora/stopwords.zip.\n"
     ]
    },
    {
     "data": {
      "text/plain": [
       "True"
      ]
     },
     "execution_count": 4,
     "metadata": {},
     "output_type": "execute_result"
    }
   ],
   "source": [
    "import nltk as nltk\n",
    "nltk.download('punkt')\n",
    "nltk.download('stopwords')"
   ]
  },
  {
   "cell_type": "code",
   "execution_count": 5,
   "metadata": {
    "colab": {
     "base_uri": "https://localhost:8080/"
    },
    "id": "abxo1UoHlzHq",
    "outputId": "e19b1305-de00-4e00-b0af-49fd31dc2548"
   },
   "outputs": [
    {
     "name": "stdout",
     "output_type": "stream",
     "text": [
      "['fasttext-wiki-news-subwords-300', 'conceptnet-numberbatch-17-06-300', 'word2vec-ruscorpora-300', 'word2vec-google-news-300', 'glove-wiki-gigaword-50', 'glove-wiki-gigaword-100', 'glove-wiki-gigaword-200', 'glove-wiki-gigaword-300', 'glove-twitter-25', 'glove-twitter-50', 'glove-twitter-100', 'glove-twitter-200', '__testing_word2vec-matrix-synopsis']\n"
     ]
    },
    {
     "name": "stderr",
     "output_type": "stream",
     "text": [
      "/usr/local/lib/python3.7/dist-packages/gensim/similarities/__init__.py:15: UserWarning: The gensim.similarities.levenshtein submodule is disabled, because the optional Levenshtein package <https://pypi.org/project/python-Levenshtein/> is unavailable. Install Levenhstein (e.g. `pip install python-Levenshtein`) to suppress this warning.\n",
      "  warnings.warn(msg)\n"
     ]
    }
   ],
   "source": [
    "import gensim.downloader\n",
    "\n",
    "print(list(gensim.downloader.info()['models'].keys()))"
   ]
  },
  {
   "cell_type": "code",
   "execution_count": 6,
   "metadata": {
    "id": "Axy2M2UE_gg2"
   },
   "outputs": [],
   "source": [
    "# Masculine-coded words\n",
    "masc_word=[\"active\",\n",
    "\"adventurous\",\n",
    "\"aggress\",\n",
    "\"ambitio\",\n",
    "\"analy\",\n",
    "\"assert\",\n",
    "\"athlet\",\n",
    "\"autonom\",\n",
    "\"battle\",\n",
    "\"boast\",\n",
    "\"challeng\",\n",
    "\"champion\",\n",
    "\"compet\",\n",
    "\"confident\",\n",
    "\"courag\",\n",
    "\"decid\",\n",
    "\"decision\",\n",
    "\"decisive\",\n",
    "\"defend\",\n",
    "\"determin\",\n",
    "\"domina\",\n",
    "\"dominant\",\n",
    "\"driven\",\n",
    "\"fearless\",\n",
    "\"fight\",\n",
    "\"force\",\n",
    "\"greedy\",\n",
    "\"head-strong\",\n",
    "\"headstrong\",\n",
    "\"hierarch\",\n",
    "\"hostil\",\n",
    "\"impulsive\",\n",
    "\"independen\",\n",
    "\"individual\",\n",
    "\"intellect\",\n",
    "\"lead\",\n",
    "\"logic\",\n",
    "\"objective\",\n",
    "\"opinion\",\n",
    "\"outspoken\",\n",
    "\"persist\",\n",
    "\"principle\",\n",
    "\"reckless\",\n",
    "\"self-confiden\",\n",
    "\"self-relian\",\n",
    "\"self-sufficien\",\n",
    "\"selfconfiden\",\n",
    "\"selfrelian\",\n",
    "\"selfsufficien\",\n",
    "\"stubborn\",\n",
    "\"superior\",\n",
    "\"unreasonab\"]"
   ]
  },
  {
   "cell_type": "code",
   "execution_count": 7,
   "metadata": {
    "id": "wd-oUaMMDbLJ"
   },
   "outputs": [],
   "source": [
    "# Feminine,coded words\n",
    "fem_word=[\"agree\",\n",
    "\"affectionate\",\n",
    "\"child\",\n",
    "\"cheer\",\n",
    "\"collab\",\n",
    "\"commit\",\n",
    "\"communal\",\n",
    "\"compassion\",\n",
    "\"connect\",\n",
    "\"considerate\",\n",
    "\"cooperat\",\n",
    "\"co-operat\",\n",
    "\"depend\",\n",
    "\"emotiona\",\n",
    "\"empath\",\n",
    "\"feel\",\n",
    "\"flatterable\",\n",
    "\"gentle\",\n",
    "\"honest\",\n",
    "\"interpersonal\",\n",
    "\"interdependen\",\n",
    "\"interpersona\",\n",
    "\"inter-personal\",\n",
    "\"inter-dependen\",\n",
    "\"inter-persona\",\n",
    "\"kind\",\n",
    "\"kinship\",\n",
    "\"loyal\",\n",
    "\"modesty\",\n",
    "\"nag\",\n",
    "\"nurtur\",\n",
    "\"pleasant\",\n",
    "\"polite\",\n",
    "\"quiet\",\n",
    "\"respon\",\n",
    "\"sensitiv\",\n",
    "\"submissive\",\n",
    "\"support\",\n",
    "\"sympath\",\n",
    "\"tender\",\n",
    "\"together\",\n",
    "\"trust\",\n",
    "\"understand\",\n",
    "\"warm\",\n",
    "\"whin\",\n",
    "\"enthusias\",\n",
    "\"inclusive\",\n",
    "\"yield\",\n",
    "\"share\",\n",
    "\"sharin\"]"
   ]
  },
  {
   "cell_type": "code",
   "execution_count": 8,
   "metadata": {
    "id": "4p8jOAFFD7fG"
   },
   "outputs": [],
   "source": [
    "df1= pd.read_csv(\"/content/drive/MyDrive/Colab Notebooks/data/monster_com-job_sample.csv\")"
   ]
  },
  {
   "cell_type": "code",
   "execution_count": 9,
   "metadata": {
    "colab": {
     "base_uri": "https://localhost:8080/"
    },
    "id": "-Nb3y1nMIdkH",
    "outputId": "f56e5fc4-0f4f-4eaa-d816-2d6d7eca69c5"
   },
   "outputs": [
    {
     "data": {
      "text/plain": [
       "0        TeamSoft is seeing an IT Support Specialist to...\n",
       "1        The Wisconsin State Journal is seeking a flexi...\n",
       "2        Report this job About the Job DePuy Synthes Co...\n",
       "3        Why Join Altec? If you’re considering a career...\n",
       "4        Position ID#  76162 # Positions  1 State  CT C...\n",
       "                               ...                        \n",
       "21995    This is a major premier Cincinnati based finan...\n",
       "21996    Luxury homebuilder in Cincinnati seeking multi...\n",
       "21997    RE: Adobe AEM-          Client -          Loca...\n",
       "21998    Jernberg Industries was established in 1937 an...\n",
       "21999    Contract AdministratorCan you be the point per...\n",
       "Name: job_description, Length: 22000, dtype: object"
      ]
     },
     "execution_count": 9,
     "metadata": {},
     "output_type": "execute_result"
    }
   ],
   "source": [
    "df1[\"job_description\"]"
   ]
  },
  {
   "cell_type": "code",
   "execution_count": 10,
   "metadata": {
    "id": "vqvx8GioIekq"
   },
   "outputs": [],
   "source": [
    "def clean (text):\n",
    "    \n",
    "    text_urless=re.sub(r\"(https?:\\/\\/)(\\s)*(www\\.)?(\\s)*((\\w|\\s)+\\.)*([\\w\\-\\s]+\\/)*([\\w\\-]+)((\\?)?[\\w\\s]*=\\s*[\\w\\%&]*)*\", '', text)\n",
    "    \n",
    "    for punctuation in string.punctuation:\n",
    "        text = text_urless.replace(punctuation, ' ') # Remove Punctuation\n",
    "        \n",
    "    lowercased = text.lower() # Lower Case\n",
    "    \n",
    "    unaccented_string = unidecode.unidecode(lowercased) # remove accents\n",
    "          \n",
    "    tokenized = word_tokenize(unaccented_string) # Tokenize\n",
    "    \n",
    "    words_only = [word for word in tokenized if word.isalpha()] # Remove numbers\n",
    "    \n",
    "    stop_words = set(stopwords.words('english')) # Make stopword list\n",
    "    \n",
    "    without_stopwords = [word for word in words_only if not word in stop_words] # Remove Stop Words\n",
    "    \n",
    "    return \" \".join(without_stopwords)\n",
    "\n",
    "# df['clean_tweet'] = df['tweet'].apply(clean)\n",
    "\n",
    "# df.head()"
   ]
  },
  {
   "cell_type": "code",
   "execution_count": 11,
   "metadata": {
    "id": "HXmLVDv6MBG_"
   },
   "outputs": [],
   "source": [
    "df1[\"clean_description\"]=df1[\"job_description\"].apply(clean)"
   ]
  },
  {
   "cell_type": "code",
   "execution_count": 12,
   "metadata": {
    "id": "XO9NgWzupFgV"
   },
   "outputs": [],
   "source": [
    "def masc_woman(description):\n",
    "    count_masc=len([x for x in masc_word if x in description])\n",
    "    count_wom=len([x for x in fem_word if x in description])\n",
    "    return count_masc-count_wom"
   ]
  },
  {
   "cell_type": "code",
   "execution_count": 13,
   "metadata": {
    "id": "1QtYm_MtqN8E"
   },
   "outputs": [],
   "source": [
    "df1[\"biased\"]=df1[\"clean_description\"].apply(masc_woman)\n"
   ]
  },
  {
   "cell_type": "code",
   "execution_count": 14,
   "metadata": {
    "colab": {
     "base_uri": "https://localhost:8080/",
     "height": 282
    },
    "id": "UfAIgMBxhygw",
    "outputId": "f0be231e-eedf-4f75-df81-33bbd2fa8f10"
   },
   "outputs": [
    {
     "data": {
      "text/plain": [
       "<matplotlib.axes._subplots.AxesSubplot at 0x7fc97be35110>"
      ]
     },
     "execution_count": 14,
     "metadata": {},
     "output_type": "execute_result"
    },
    {
     "data": {
      "image/png": "[encoded data removed]",
      "text/plain": [
       "<Figure size 432x288 with 1 Axes>"
      ]
     },
     "metadata": {
      "needs_background": "light"
     },
     "output_type": "display_data"
    }
   ],
   "source": [
    "df1[\"biased\"].hist()"
   ]
  },
  {
   "cell_type": "code",
   "execution_count": 58,
   "metadata": {
    "colab": {
     "base_uri": "https://localhost:8080/"
    },
    "id": "LqSwYKp39ce-",
    "outputId": "3f1badc4-43f9-47a7-85f7-dcffac3b7be8"
   },
   "outputs": [
    {
     "data": {
      "text/plain": [
       " 0     5046\n",
       "-1     4458\n",
       "-2     3062\n",
       " 1     3018\n",
       "-3     1795\n",
       " 2     1488\n",
       "-4     1326\n",
       " 3      577\n",
       "-5      555\n",
       "-6      266\n",
       " 4      185\n",
       "-7       72\n",
       "-8       65\n",
       " 5       50\n",
       " 6       23\n",
       "-9        8\n",
       "-11       3\n",
       " 7        2\n",
       " 10       1\n",
       "Name: biased, dtype: int64"
      ]
     },
     "execution_count": 58,
     "metadata": {},
     "output_type": "execute_result"
    }
   ],
   "source": [
    "df1[\"biased\"].value_counts()"
   ]
  },
  {
   "cell_type": "code",
   "execution_count": 59,
   "metadata": {
    "colab": {
     "base_uri": "https://localhost:8080/",
     "height": 297
    },
    "id": "0KP_xfku9xCN",
    "outputId": "4f12e7b7-b6b0-422f-b499-914dd47e75ae"
   },
   "outputs": [
    {
     "data": {
      "text/html": [
       "<div>\n",
       "<style scoped>\n",
       "    .dataframe tbody tr th:only-of-type {\n",
       "        vertical-align: middle;\n",
       "    }\n",
       "\n",
       "    .dataframe tbody tr th {\n",
       "        vertical-align: top;\n",
       "    }\n",
       "\n",
       "    .dataframe thead th {\n",
       "        text-align: right;\n",
       "    }\n",
       "</style>\n",
       "<table border=\"1\" class=\"dataframe\">\n",
       "  <thead>\n",
       "    <tr style=\"text-align: right;\">\n",
       "      <th></th>\n",
       "      <th>biased</th>\n",
       "    </tr>\n",
       "  </thead>\n",
       "  <tbody>\n",
       "    <tr>\n",
       "      <th>count</th>\n",
       "      <td>22000.000000</td>\n",
       "    </tr>\n",
       "    <tr>\n",
       "      <th>mean</th>\n",
       "      <td>-0.813364</td>\n",
       "    </tr>\n",
       "    <tr>\n",
       "      <th>std</th>\n",
       "      <td>2.034652</td>\n",
       "    </tr>\n",
       "    <tr>\n",
       "      <th>min</th>\n",
       "      <td>-11.000000</td>\n",
       "    </tr>\n",
       "    <tr>\n",
       "      <th>25%</th>\n",
       "      <td>-2.000000</td>\n",
       "    </tr>\n",
       "    <tr>\n",
       "      <th>50%</th>\n",
       "      <td>-1.000000</td>\n",
       "    </tr>\n",
       "    <tr>\n",
       "      <th>75%</th>\n",
       "      <td>0.000000</td>\n",
       "    </tr>\n",
       "    <tr>\n",
       "      <th>max</th>\n",
       "      <td>10.000000</td>\n",
       "    </tr>\n",
       "  </tbody>\n",
       "</table>\n",
       "</div>"
      ],
      "text/plain": [
       "             biased\n",
       "count  22000.000000\n",
       "mean      -0.813364\n",
       "std        2.034652\n",
       "min      -11.000000\n",
       "25%       -2.000000\n",
       "50%       -1.000000\n",
       "75%        0.000000\n",
       "max       10.000000"
      ]
     },
     "execution_count": 59,
     "metadata": {},
     "output_type": "execute_result"
    }
   ],
   "source": [
    "df1[[\"biased\"]].describe()"
   ]
  },
  {
   "cell_type": "code",
   "execution_count": 15,
   "metadata": {
    "colab": {
     "base_uri": "https://localhost:8080/"
    },
    "id": "LaXUb3O8l4yo",
    "outputId": "3f63bef6-a439-41a0-8f66-da731cf9a29f"
   },
   "outputs": [
    {
     "name": "stdout",
     "output_type": "stream",
     "text": [
      "[==================================================] 100.0% 1662.8/1662.8MB downloaded\n"
     ]
    }
   ],
   "source": [
    "model_news = gensim.downloader.load('word2vec-google-news-300')"
   ]
  },
  {
   "cell_type": "code",
   "execution_count": 20,
   "metadata": {
    "colab": {
     "base_uri": "https://localhost:8080/"
    },
    "id": "uVplQQF6zc7S",
    "outputId": "96ff4330-fd51-4143-c176-9a62607b1da4"
   },
   "outputs": [
    {
     "data": {
      "text/plain": [
       "Index(['country', 'country_code', 'date_added', 'has_expired', 'job_board',\n",
       "       'job_description', 'job_title', 'job_type', 'location', 'organization',\n",
       "       'page_url', 'salary', 'sector', 'uniq_id', 'clean_description',\n",
       "       'biased'],\n",
       "      dtype='object')"
      ]
     },
     "execution_count": 20,
     "metadata": {},
     "output_type": "execute_result"
    }
   ],
   "source": [
    "df1.columns"
   ]
  },
  {
   "cell_type": "code",
   "execution_count": 21,
   "metadata": {
    "colab": {
     "base_uri": "https://localhost:8080/"
    },
    "id": "2axU0XfozlSh",
    "outputId": "b6621fe4-9e99-4b5a-ad90-24578fd08543"
   },
   "outputs": [
    {
     "data": {
      "text/plain": [
       "0                     IT Support Technician Job in Madison\n",
       "1                  Business Reporter/Editor Job in Madison\n",
       "2        Johnson & Johnson Family of Companies Job Appl...\n",
       "3                          Engineer - Quality Job in Dixon\n",
       "4             Shift Supervisor - Part-Time Job in Camphill\n",
       "                               ...                        \n",
       "21995    Assistant Vice President - Controller Job in C...\n",
       "21996                         Accountant Job in Cincinnati\n",
       "21997                      AEM/CQ developer Job in Chicago\n",
       "21998    Electrician - Experienced Forging Electrician ...\n",
       "21999             Contract Administrator Job in Cincinnati\n",
       "Name: job_title, Length: 22000, dtype: object"
      ]
     },
     "execution_count": 21,
     "metadata": {},
     "output_type": "execute_result"
    }
   ],
   "source": [
    "df1.job_title"
   ]
  },
  {
   "cell_type": "code",
   "execution_count": 16,
   "metadata": {
    "colab": {
     "base_uri": "https://localhost:8080/"
    },
    "id": "3Z632TSuslnB",
    "outputId": "c6eb0529-ff92-4b9e-be17-9e40fb2a2d0e"
   },
   "outputs": [
    {
     "data": {
      "text/plain": [
       "[('specialists', 0.6954889297485352),\n",
       " ('expert', 0.6338785886764526),\n",
       " ('consultant', 0.5788604617118835),\n",
       " ('Specialist', 0.5491595268249512),\n",
       " ('specializing', 0.5305806398391724),\n",
       " ('technician', 0.5135164260864258),\n",
       " ('specialized', 0.4869503974914551),\n",
       " ('specializes', 0.4825648069381714),\n",
       " ('coordinator', 0.4796016216278076),\n",
       " ('adjunct_associate_professor', 0.4698087275028229)]"
      ]
     },
     "execution_count": 16,
     "metadata": {},
     "output_type": "execute_result"
    }
   ],
   "source": [
    "model_news.most_similar(\"specialist\")"
   ]
  },
  {
   "cell_type": "code",
   "execution_count": null,
   "metadata": {
    "id": "DZ1MfRsB0N3r"
   },
   "outputs": [],
   "source": [
    "# pd.read_json             (\"/content/drive/MyDrive/Colab Notebooks/data/professions.json\")\n",
    "json.load(\"/content/drive/MyDrive/Colab Notebooks/data/professions.json\")"
   ]
  },
  {
   "cell_type": "code",
   "execution_count": 45,
   "metadata": {
    "id": "LZPPmGOv2K_L"
   },
   "outputs": [],
   "source": [
    "professions_df=pd.read_json(\"/content/drive/MyDrive/Colab Notebooks/data/professions.json\")\n",
    "professions_df.rename(columns={0:\"job_title\", 1:\"woman_biased\", 2:\"man_biased\"}, inplace=True)\n"
   ]
  },
  {
   "cell_type": "code",
   "execution_count": null,
   "metadata": {
    "id": "B56_QMer3fRq"
   },
   "outputs": [],
   "source": [
    "[x for x in professions_df.job_title] # if x in df1.job_title]"
   ]
  },
  {
   "cell_type": "code",
   "execution_count": null,
   "metadata": {
    "id": "CgrnakSE7Pvt"
   },
   "outputs": [],
   "source": [
    "set([x for x in df1.job_title])"
   ]
  },
  {
   "cell_type": "code",
   "execution_count": 75,
   "metadata": {
    "colab": {
     "base_uri": "https://localhost:8080/",
     "height": 419
    },
    "id": "um0_Kae6EDUY",
    "outputId": "e72379df-c192-45bf-a0a0-f848031d0688"
   },
   "outputs": [
    {
     "data": {
      "text/html": [
       "<div>\n",
       "<style scoped>\n",
       "    .dataframe tbody tr th:only-of-type {\n",
       "        vertical-align: middle;\n",
       "    }\n",
       "\n",
       "    .dataframe tbody tr th {\n",
       "        vertical-align: top;\n",
       "    }\n",
       "\n",
       "    .dataframe thead th {\n",
       "        text-align: right;\n",
       "    }\n",
       "</style>\n",
       "<table border=\"1\" class=\"dataframe\">\n",
       "  <thead>\n",
       "    <tr style=\"text-align: right;\">\n",
       "      <th></th>\n",
       "      <th>clean_description</th>\n",
       "      <th>biased</th>\n",
       "    </tr>\n",
       "  </thead>\n",
       "  <tbody>\n",
       "    <tr>\n",
       "      <th>19939</th>\n",
       "      <td>summaryassign stations side work servers commu...</td>\n",
       "      <td>-11</td>\n",
       "    </tr>\n",
       "    <tr>\n",
       "      <th>19021</th>\n",
       "      <td>summarylocation temple university new starbuck...</td>\n",
       "      <td>-11</td>\n",
       "    </tr>\n",
       "    <tr>\n",
       "      <th>19178</th>\n",
       "      <td>summaryassign stations side work cooks cashier...</td>\n",
       "      <td>-11</td>\n",
       "    </tr>\n",
       "    <tr>\n",
       "      <th>8728</th>\n",
       "      <td>location id posted date category employment ty...</td>\n",
       "      <td>-9</td>\n",
       "    </tr>\n",
       "    <tr>\n",
       "      <th>16667</th>\n",
       "      <td>location id posted date category employment ty...</td>\n",
       "      <td>-9</td>\n",
       "    </tr>\n",
       "    <tr>\n",
       "      <th>...</th>\n",
       "      <td>...</td>\n",
       "      <td>...</td>\n",
       "    </tr>\n",
       "    <tr>\n",
       "      <th>1665</th>\n",
       "      <td>report job job leading manufacturer rubber coa...</td>\n",
       "      <td>6</td>\n",
       "    </tr>\n",
       "    <tr>\n",
       "      <th>4311</th>\n",
       "      <td>america us nyse tmus redefining way consumers ...</td>\n",
       "      <td>6</td>\n",
       "    </tr>\n",
       "    <tr>\n",
       "      <th>21672</th>\n",
       "      <td>description northrop grumman cincinnati oh loo...</td>\n",
       "      <td>7</td>\n",
       "    </tr>\n",
       "    <tr>\n",
       "      <th>21845</th>\n",
       "      <td>description northrop grumman cincinnati oh loo...</td>\n",
       "      <td>7</td>\n",
       "    </tr>\n",
       "    <tr>\n",
       "      <th>7724</th>\n",
       "      <td>become champion us like way fighters prepare t...</td>\n",
       "      <td>10</td>\n",
       "    </tr>\n",
       "  </tbody>\n",
       "</table>\n",
       "<p>22000 rows × 2 columns</p>\n",
       "</div>"
      ],
      "text/plain": [
       "                                       clean_description  biased\n",
       "19939  summaryassign stations side work servers commu...     -11\n",
       "19021  summarylocation temple university new starbuck...     -11\n",
       "19178  summaryassign stations side work cooks cashier...     -11\n",
       "8728   location id posted date category employment ty...      -9\n",
       "16667  location id posted date category employment ty...      -9\n",
       "...                                                  ...     ...\n",
       "1665   report job job leading manufacturer rubber coa...       6\n",
       "4311   america us nyse tmus redefining way consumers ...       6\n",
       "21672  description northrop grumman cincinnati oh loo...       7\n",
       "21845  description northrop grumman cincinnati oh loo...       7\n",
       "7724   become champion us like way fighters prepare t...      10\n",
       "\n",
       "[22000 rows x 2 columns]"
      ]
     },
     "execution_count": 75,
     "metadata": {},
     "output_type": "execute_result"
    }
   ],
   "source": [
    "df1[[\"clean_description\", \"biased\"]].sort_values(\"biased\")"
   ]
  },
  {
   "cell_type": "code",
   "execution_count": 80,
   "metadata": {
    "colab": {
     "base_uri": "https://localhost:8080/",
     "height": 103
    },
    "id": "-JqSD2keFvJW",
    "outputId": "8739074c-ead0-46c0-a9d1-20f3b212ec6a"
   },
   "outputs": [
    {
     "data": {
      "application/vnd.google.colaboratory.intrinsic+json": {
       "type": "string"
      },
      "text/plain": [
       "'summarylocation temple university new starbucks med school opening april job classification full time openings pay rate shift one mon shift two mon shift three mon responsibilitiesoversee various areas food service activities monitor quality food products adequate quantities service excellent customer service skills coach employees meeting job ensuring safe working environment throughout facility monitoring employee productivity provides suggestions increased service oversee operation absence store manager ensure needs customer client employees metorients trains employees works customers ensure satisfaction areas quality service problem years cash handling experience including register systems years working starbucks dunkin donuts coffee shop starbuck experience preferred years experience completing inventory ordering previous supervisory experience food service skill motivation food service personnelproven ability meet goals along understanding food service financesgeneral knowledge food service program requirements basic computer written communication skills ability maintain records complete reports required knowledge food production food requirements procedureshigh school diploma ged required assign stations side work servers communicate additions changes assignments arise conduct meetings servers review information pertinent service coordinate service ensure staff working together team ensure optimum service customers maintain cleanliness work areas serving areas throughout day practicing procedures date label rotate items according company standards ensure coolers freezers bread drawers steamwells gravy soup set correct temperatures labeled record equipment food temperatures haccp chart complete opening closing duties organize cleaning chemicals supplies keep separate food client rapport promote partnership value clients fulfilling contractual obligations seeking client feedback responding client requests report accidents injuries unsafe work conditions complete safety training certifications follow company policies procedures safety security food handling ensure code personal appearance clean professional protect privacy security customers coworkers support workplace diversity initiatives speak others using clear professional language develop maintain positive working relationships others support team reach common goals listen respond appropriately concerns employees ensure adherence quality cleaning maintenance expectations standards work customer ensure skillsclient relationsmaintain client satisfaction level ensures account listen feedback customers including customer proper food handling work related accidents injuries immediately upon occurrence company department safety security loss prevention policies procedures ensure clean safe secure proper equipment wear appropriate personal protective clothing ppe employ correct lifting procedures necessary avoid compliance programs safety fire hazardous materials waste program emergency management program utility management program medical equipment management program infection control correct unsafe work procedures conditions report management proceduresfollow federal state local regulations well policies procedures quality assurance safety operations human resources code personal appearance clean hygienic professional compliance company policies privacy security customers company tools equipment machines assets accordance company policies customers professional polite listen employees effectively exchange information using clear appropriate professional assistance coworkers ensuring understand otherssupport coworkers treat dignity sensitive issues employees customers tact respect diplomacy listen consider concerns employees responding appropriately maintain positive productive working relationships assist others promote environment teamwork achieve common improvementcomply quality assurance expectations performance others ensure adherence quality expectations customer ensure satisfaction areas quality service problem maintain property premises ensuring cleanliness standards food servicesfollows sodexo safety requirements within assigned area responsibility well local state federal label rotate items according company food following company cooking storage temperature customer employee management follow employee customer vendor incidents accidents management security time incident coolers freezers bread drawers steamwells gravy soup set correct temperatures labeled record equipment food temperatures haccp cleanliness work areas serving areas throughout day practicing othersensure staff working together team ensure optimum service competenciescommunicationcommunicationinterpersonal skillstrustcooperationteamworkresolving conflictplanning managementpersonal attributesintegritydependabilitypresentationflexibilitystress tolerancesafety orientationpositive demeanorinitiativekitchen equipment toolstemperature standardsthermometer thermostatfood preparationhaccpcleaning sanitationpersonal hygiene qualificationseducationhigh school diploma equivalentrelated work years related work experiencesupervisory years experience'"
      ]
     },
     "execution_count": 80,
     "metadata": {},
     "output_type": "execute_result"
    }
   ],
   "source": [
    "df1[[\"clean_description\", \"biased\"]].sort_values(\"biased\")[\"clean_description\"][19021]"
   ]
  },
  {
   "cell_type": "code",
   "execution_count": 17,
   "metadata": {
    "colab": {
     "base_uri": "https://localhost:8080/"
    },
    "id": "Z40RYyEP_b5p",
    "outputId": "1dd3109c-fab0-4d37-fc7a-17be903f75b5"
   },
   "outputs": [
    {
     "data": {
      "text/plain": [
       "[('specialist', 0.6409542560577393),\n",
       " ('king', 0.590969979763031),\n",
       " ('specialists', 0.43920382857322693),\n",
       " ('expert', 0.4227278530597687),\n",
       " ('queen', 0.40973883867263794),\n",
       " ('kings', 0.3976721167564392),\n",
       " ('tsar', 0.36690059304237366),\n",
       " ('consultant', 0.36134448647499084),\n",
       " ('undisputed_king', 0.3554269075393677),\n",
       " ('monarch', 0.34611785411834717)]"
      ]
     },
     "execution_count": 17,
     "metadata": {},
     "output_type": "execute_result"
    }
   ],
   "source": [
    "model_news.similar_by_vector    (model_news[\"king\"]-model_news[\"man\"] +model_news[\"specialist\"])  "
   ]
  },
  {
   "cell_type": "code",
   "execution_count": 60,
   "metadata": {
    "colab": {
     "base_uri": "https://localhost:8080/"
    },
    "id": "JC63FBaevdLw",
    "outputId": "60936661-d4c2-440e-d9ea-665dac5ce4c3"
   },
   "outputs": [
    {
     "data": {
      "text/plain": [
       "[('floral_frock', 0.3174666166305542),\n",
       " ('RuPaul_Drag_Race', 0.3082559406757355),\n",
       " ('Pantsuits', 0.302278995513916),\n",
       " ('Shenae_Grimes', 0.3009686768054962),\n",
       " ('pageant', 0.3003758192062378),\n",
       " ('Nicole_Richies', 0.30025190114974976),\n",
       " ('Queen_Pageant', 0.29840007424354553),\n",
       " ('Blige', 0.2939970791339874),\n",
       " ('Pageant', 0.29372668266296387),\n",
       " ('Gossip_Girl', 0.29129791259765625)]"
      ]
     },
     "execution_count": 60,
     "metadata": {},
     "output_type": "execute_result"
    }
   ],
   "source": [
    "model_news.similar_by_vector    (model_news[\"queen\"]-model_news[\"king\"] -model_news[\"specialist\"])   #"
   ]
  },
  {
   "cell_type": "code",
   "execution_count": 65,
   "metadata": {
    "colab": {
     "base_uri": "https://localhost:8080/"
    },
    "id": "TjxEJyZh-xvn",
    "outputId": "5ff3a008-a3fe-4988-d6e1-1c02ea9fa5cd"
   },
   "outputs": [
    {
     "data": {
      "text/plain": [
       "[('Steven_Passalaqua', 0.28545618057250977),\n",
       " ('Jill_Coccaro', 0.2825280725955963),\n",
       " ('HADDAM_Conn.', 0.2790330946445465),\n",
       " ('Claudia_Aderotimi', 0.27546632289886475),\n",
       " ('Saeeda_Khan', 0.27512186765670776),\n",
       " ('RPC_INCORPORATED_AND_SUBSIDIARIES', 0.27254772186279297),\n",
       " ('Minouche_Noel', 0.27246490120887756),\n",
       " ('Aol_Weird_News', 0.27211377024650574),\n",
       " ('SCHEDULED_TO_PREMIERE_4Q', 0.27126345038414),\n",
       " ('Yorkshire_terrier_puppy', 0.27106356620788574)]"
      ]
     },
     "execution_count": 65,
     "metadata": {},
     "output_type": "execute_result"
    }
   ],
   "source": [
    "model_news.similar_by_vector    (model_news[\"woman\"]-model_news[\"man\"] -model_news[\"strengths\"]) "
   ]
  },
  {
   "cell_type": "code",
   "execution_count": 71,
   "metadata": {
    "colab": {
     "base_uri": "https://localhost:8080/"
    },
    "id": "j9fd7ZnX-1rM",
    "outputId": "7a3bb1b4-4e4f-4068-b69f-1c4711cf23a9"
   },
   "outputs": [
    {
     "data": {
      "text/plain": [
       "[('she', 0.7309489250183105),\n",
       " ('he', 0.6838458776473999),\n",
       " ('She', 0.5508639216423035),\n",
       " ('her', 0.5299752354621887),\n",
       " ('hers', 0.4767470955848694),\n",
       " ('herself', 0.4746932089328766),\n",
       " (\"hadn'tI\", 0.46073880791664124),\n",
       " ('He', 0.45339342951774597),\n",
       " ('him', 0.4450664520263672),\n",
       " ('I', 0.4437461197376251)]"
      ]
     },
     "execution_count": 71,
     "metadata": {},
     "output_type": "execute_result"
    }
   ],
   "source": [
    "model_news.similar_by_vector    (model_news[\"she\"]+model_news[\"he\"] -model_news[\"specialist\"]) "
   ]
  },
  {
   "cell_type": "code",
   "execution_count": 60,
   "metadata": {
    "id": "tIc1k61h4fPe"
   },
   "outputs": [],
   "source": [
    "test1=[\"he\", \"man\", \"king\", \"adventurous\"]\n",
    "test2=[\"she\", \"woman\", \"queen\", \"ballerina\"]"
   ]
  },
  {
   "cell_type": "code",
   "execution_count": 61,
   "metadata": {
    "colab": {
     "base_uri": "https://localhost:8080/"
    },
    "id": "zO_dk21L4JjM",
    "outputId": "a7cd5454-6cba-4f25-b241-4cdf39feb231"
   },
   "outputs": [
    {
     "data": {
      "text/plain": [
       "0.50201976"
      ]
     },
     "execution_count": 61,
     "metadata": {},
     "output_type": "execute_result"
    }
   ],
   "source": [
    "model_news.n_similarity(test1, test2)"
   ]
  },
  {
   "cell_type": "code",
   "execution_count": 18,
   "metadata": {
    "colab": {
     "base_uri": "https://localhost:8080/"
    },
    "id": "KZq4_typtyU5",
    "outputId": "df28b8c7-a275-4d0d-bd3a-154e0e19d1ae"
   },
   "outputs": [
    {
     "data": {
      "text/plain": [
       "[('Elliot_Vallejo', 0.33720386028289795),\n",
       " ('TRENDING_UP', 0.33610448241233826),\n",
       " ('Bob_Skoronski', 0.33573102951049805),\n",
       " ('Eddie_Taubensee', 0.32079705595970154),\n",
       " ('Braylon_Edwards_Kellen_Winslow', 0.31876763701438904),\n",
       " ('Offseason_acquisition', 0.31653696298599243),\n",
       " ('Fans_cheered_loudly', 0.3128668963909149),\n",
       " ('Jon_Oosterhuis', 0.31080716848373413),\n",
       " ('Robby_Alomar', 0.30986636877059937),\n",
       " ('Mo_Sissoko', 0.3082132637500763)]"
      ]
     },
     "execution_count": 18,
     "metadata": {},
     "output_type": "execute_result"
    }
   ],
   "source": [
    "v=model_news[\"he\"]-model_news[\"she\"]\n",
    "model_news.similar_by_vector (v/np.linalg.norm(v))"
   ]
  },
  {
   "cell_type": "code",
   "execution_count": 52,
   "metadata": {
    "colab": {
     "base_uri": "https://localhost:8080/",
     "height": 316
    },
    "id": "B2e-xSyFyqdF",
    "outputId": "d934a73e-80fb-46a7-a941-c9ddeb01070c"
   },
   "outputs": [
    {
     "name": "stderr",
     "output_type": "stream",
     "text": [
      "/usr/local/lib/python3.7/dist-packages/ipykernel_launcher.py:1: DeprecationWarning: Call to deprecated `words_closer_than` (Use closer_than instead).\n",
      "  \"\"\"Entry point for launching an IPython kernel.\n"
     ]
    },
    {
     "ename": "TypeError",
     "evalue": "ignored",
     "output_type": "error",
     "traceback": [
      "\u001b[0;31m---------------------------------------------------------------------------\u001b[0m",
      "\u001b[0;31mTypeError\u001b[0m                                 Traceback (most recent call last)",
      "\u001b[0;32m<ipython-input-52-8423013fb48a>\u001b[0m in \u001b[0;36m<module>\u001b[0;34m()\u001b[0m\n\u001b[0;32m----> 1\u001b[0;31m \u001b[0mmodel_news\u001b[0m\u001b[0;34m.\u001b[0m\u001b[0mwords_closer_than\u001b[0m    \u001b[0;34m(\u001b[0m\u001b[0mmodel_news\u001b[0m\u001b[0;34m[\u001b[0m\u001b[0;34m\"queen\"\u001b[0m\u001b[0;34m]\u001b[0m\u001b[0;34m+\u001b[0m\u001b[0mmodel_news\u001b[0m\u001b[0;34m[\u001b[0m\u001b[0;34m\"king\"\u001b[0m\u001b[0;34m]\u001b[0m \u001b[0;34m+\u001b[0m\u001b[0mmodel_news\u001b[0m\u001b[0;34m[\u001b[0m\u001b[0;34m\"documentation\"\u001b[0m\u001b[0;34m]\u001b[0m\u001b[0;34m)\u001b[0m   \u001b[0;31m#\u001b[0m\u001b[0;34m\u001b[0m\u001b[0;34m\u001b[0m\u001b[0m\n\u001b[0m",
      "\u001b[0;32m/usr/local/lib/python3.7/dist-packages/gensim/utils.py\u001b[0m in \u001b[0;36mnew_func1\u001b[0;34m(*args, **kwargs)\u001b[0m\n\u001b[1;32m   1517\u001b[0m                     \u001b[0mstacklevel\u001b[0m\u001b[0;34m=\u001b[0m\u001b[0;36m2\u001b[0m\u001b[0;34m\u001b[0m\u001b[0;34m\u001b[0m\u001b[0m\n\u001b[1;32m   1518\u001b[0m                 )\n\u001b[0;32m-> 1519\u001b[0;31m                 \u001b[0;32mreturn\u001b[0m \u001b[0mfunc\u001b[0m\u001b[0;34m(\u001b[0m\u001b[0;34m*\u001b[0m\u001b[0margs\u001b[0m\u001b[0;34m,\u001b[0m \u001b[0;34m**\u001b[0m\u001b[0mkwargs\u001b[0m\u001b[0;34m)\u001b[0m\u001b[0;34m\u001b[0m\u001b[0;34m\u001b[0m\u001b[0m\n\u001b[0m\u001b[1;32m   1520\u001b[0m \u001b[0;34m\u001b[0m\u001b[0m\n\u001b[1;32m   1521\u001b[0m             \u001b[0;32mreturn\u001b[0m \u001b[0mnew_func1\u001b[0m\u001b[0;34m\u001b[0m\u001b[0;34m\u001b[0m\u001b[0m\n",
      "\u001b[0;31mTypeError\u001b[0m: words_closer_than() missing 1 required positional argument: 'word2'"
     ]
    }
   ],
   "source": [
    "model_news.words_closer_than    (model_news[\"queen\"]+model_news[\"king\"] +model_news[\"documentation\"])   #"
   ]
  },
  {
   "cell_type": "code",
   "execution_count": null,
   "metadata": {
    "id": "5r-J7vrvy83N"
   },
   "outputs": [],
   "source": [
    "model_news.n_similarity (\"man\", \"specialist\")"
   ]
  },
  {
   "cell_type": "code",
   "execution_count": null,
   "metadata": {
    "id": "Pfrx_n4Hu0PN"
   },
   "outputs": [],
   "source": [
    "model_news[\"she\"]-model_news[\"specialist\"]>model_news[\"he\"]          #.wv['queen']"
   ]
  },
  {
   "cell_type": "code",
   "execution_count": 15,
   "metadata": {
    "colab": {
     "base_uri": "https://localhost:8080/",
     "height": 103
    },
    "id": "urajnGnNMIjw",
    "outputId": "8e7a26fa-72a1-4ce4-eec2-fd19ab792a92"
   },
   "outputs": [
    {
     "data": {
      "application/vnd.google.colaboratory.intrinsic+json": {
       "type": "string"
      },
      "text/plain": [
       "'teamsoft seeing support specialist join client madison wi ideal candidate must least years experience field need familiar variety field concepts practices procedures position relies extensive experience judgment plan accomplish goals required skills call tracking phone based technical problem documentation remote desktop management respond customer general understanding microsoft office suitefind teamsoft madison area technology leader consultants owned operated managed consultants teamsoft clear choice career join teamsoft family today know teamsoft offers salaried options many positions include weeks pto great benefits teamsoft business since teamsoft owners local professionals possess wealth experience application development business analysis project teamsoft recruiters knowledgeable friendly ready help make next great career teamsoft offers full benefits suite consultants including plan vested dollar dollar targeted selection process designed get know strengths career interests provide best chance success new longest running consultant us consultants participate charitable giving committee date teamsoft charitable giving committee donated teamsoft owned local professionals team also deep experience staffing clients understand rely expertise teamsoft madison area largest privately owned consulting firm current consultants active clients teamsoft give greatest exposure widest range owners possess combined years consulting experience recruiting account management staff client markets get know know every day know deal take career seriously teamsoft resume number goal create partnerships consultants according feedback many good click see consultants say working promote teamsoft equal employment opportunity employer functioning affirmative action plan'"
      ]
     },
     "execution_count": 15,
     "metadata": {},
     "output_type": "execute_result"
    }
   ],
   "source": [
    "word2vec = Word2Vec(sentences=X_train[:10000], vector_size=30, window=2, min_count=10)"
   ]
  },
  {
   "cell_type": "code",
   "execution_count": 81,
   "metadata": {
    "id": "_9ob5pzoedZN"
   },
   "outputs": [],
   "source": [
    "words = sorted([w for w in model_news.key_to_index], key=lambda w: model_news.key_to_index[w])"
   ]
  },
  {
   "cell_type": "code",
   "execution_count": null,
   "metadata": {
    "id": "JDWDGKvrOkrV"
   },
   "outputs": [],
   "source": [
    "words"
   ]
  },
  {
   "cell_type": "code",
   "execution_count": null,
   "metadata": {
    "id": "xG_OjXNOempE"
   },
   "outputs": [],
   "source": [
    "model_news.key_to_index"
   ]
  },
  {
   "cell_type": "code",
   "execution_count": 16,
   "metadata": {
    "colab": {
     "base_uri": "https://localhost:8080/"
    },
    "id": "3N-bntlchK1E",
    "outputId": "d43d9448-2a5b-4e86-f88c-4959755546f5"
   },
   "outputs": [
    {
     "data": {
      "text/plain": [
       "['active', 'analy', 'lead']"
      ]
     },
     "execution_count": 16,
     "metadata": {},
     "output_type": "execute_result"
    }
   ],
   "source": []
  },
  {
   "cell_type": "markdown",
   "metadata": {
    "id": "fsLp9HyOIeg8"
   },
   "source": []
  },
  {
   "cell_type": "code",
   "execution_count": 85,
   "metadata": {
    "colab": {
     "base_uri": "https://localhost:8080/"
    },
    "id": "f2909ljUbyTt",
    "outputId": "f0d742e7-48ad-4d8b-94d7-036b07c5ab15"
   },
   "outputs": [
    {
     "data": {
      "text/plain": [
       "<Response [200]>"
      ]
     },
     "execution_count": 85,
     "metadata": {},
     "output_type": "execute_result"
    }
   ],
   "source": [
    "from bs4 import BeautifulSoup\n",
    "from bs4.element import Comment\n",
    "import urllib.request\n",
    "import requests\n",
    "\n",
    "def tag_visible(element):\n",
    "    if element.parent.name in ['style', 'script', 'head', 'title', 'meta', '[document]']:\n",
    "        return False\n",
    "    if isinstance(element, Comment):\n",
    "        return False\n",
    "    return True\n",
    "\n",
    "\n",
    "def text_from_html(body):\n",
    "    soup = BeautifulSoup(body, 'html.parser')\n",
    "    texts = soup.findAll(text=True)\n",
    "    visible_texts = filter(tag_visible, texts)  \n",
    "    return u\" \".join(t.strip() for t in visible_texts)\n",
    "\n",
    "# html = urllib.request.urlopen('https://seraphin.be/fr/emplois/front-end-developer').read()\n",
    "url='https://seraphin.be/fr/emplois/front-end-developer'\n",
    "response= requests.get(url)\n",
    "# result=response.json()\n",
    "# print(text_from_html(html))\n",
    "response"
   ]
  },
  {
   "cell_type": "code",
   "execution_count": 88,
   "metadata": {
    "id": "QjoRl-7fcJym"
   },
   "outputs": [],
   "source": [
    "url='https://seraphin.be/fr/emplois/front-end-developer'\n",
    "response= requests.get(url)\n",
    "soup = BeautifulSoup(response.text, \"html.parser\")\n",
    "texts=soup.findAll(text=True)\n",
    "visible_texts = filter(tag_visible, texts) \n",
    "test_ad=\" \".join(t.strip() for t in visible_texts)"
   ]
  },
  {
   "cell_type": "code",
   "execution_count": 89,
   "metadata": {
    "colab": {
     "base_uri": "https://localhost:8080/"
    },
    "id": "oaECsN1ZcTUd",
    "outputId": "4421b424-b0df-43d6-c948-bd8512956daf"
   },
   "outputs": [
    {
     "data": {
      "text/plain": [
       "1"
      ]
     },
     "execution_count": 89,
     "metadata": {},
     "output_type": "execute_result"
    }
   ],
   "source": [
    "masc_woman(test_ad)"
   ]
  },
  {
   "cell_type": "code",
   "execution_count": 105,
   "metadata": {
    "colab": {
     "base_uri": "https://localhost:8080/",
     "height": 419
    },
    "id": "h1iFZBoGNKlY",
    "outputId": "b7f1b07f-8199-43df-8e77-7ca37b6f8e8a"
   },
   "outputs": [
    {
     "data": {
      "text/html": [
       "<div>\n",
       "<style scoped>\n",
       "    .dataframe tbody tr th:only-of-type {\n",
       "        vertical-align: middle;\n",
       "    }\n",
       "\n",
       "    .dataframe tbody tr th {\n",
       "        vertical-align: top;\n",
       "    }\n",
       "\n",
       "    .dataframe thead th {\n",
       "        text-align: right;\n",
       "    }\n",
       "</style>\n",
       "<table border=\"1\" class=\"dataframe\">\n",
       "  <thead>\n",
       "    <tr style=\"text-align: right;\">\n",
       "      <th></th>\n",
       "      <th>job_title</th>\n",
       "      <th>biased</th>\n",
       "    </tr>\n",
       "  </thead>\n",
       "  <tbody>\n",
       "    <tr>\n",
       "      <th>18884</th>\n",
       "      <td>HEDIS Data Coordinator Job in Chicago</td>\n",
       "      <td>-6</td>\n",
       "    </tr>\n",
       "    <tr>\n",
       "      <th>19593</th>\n",
       "      <td>Grill Cook -NYLIC-Data Center Job in Lebanon</td>\n",
       "      <td>-6</td>\n",
       "    </tr>\n",
       "    <tr>\n",
       "      <th>21683</th>\n",
       "      <td>Lead Database Administrator Job in Cincinnati</td>\n",
       "      <td>-5</td>\n",
       "    </tr>\n",
       "    <tr>\n",
       "      <th>724</th>\n",
       "      <td>Senior Database Administrator Job in Dallas</td>\n",
       "      <td>-5</td>\n",
       "    </tr>\n",
       "    <tr>\n",
       "      <th>16540</th>\n",
       "      <td>DB Database Admin Job in Columbus</td>\n",
       "      <td>-5</td>\n",
       "    </tr>\n",
       "    <tr>\n",
       "      <th>...</th>\n",
       "      <td>...</td>\n",
       "      <td>...</td>\n",
       "    </tr>\n",
       "    <tr>\n",
       "      <th>16344</th>\n",
       "      <td>Data Analyst Job in Dallas</td>\n",
       "      <td>3</td>\n",
       "    </tr>\n",
       "    <tr>\n",
       "      <th>1310</th>\n",
       "      <td>Infrastructure Support Architect with Datacent...</td>\n",
       "      <td>3</td>\n",
       "    </tr>\n",
       "    <tr>\n",
       "      <th>20810</th>\n",
       "      <td>Data Entry Clerk Job in North Palm Beach</td>\n",
       "      <td>4</td>\n",
       "    </tr>\n",
       "    <tr>\n",
       "      <th>8430</th>\n",
       "      <td>DC - Part-Time Data Collector - (MN</td>\n",
       "      <td>5</td>\n",
       "    </tr>\n",
       "    <tr>\n",
       "      <th>17240</th>\n",
       "      <td>Database Architect Job in Dallas</td>\n",
       "      <td>6</td>\n",
       "    </tr>\n",
       "  </tbody>\n",
       "</table>\n",
       "<p>251 rows × 2 columns</p>\n",
       "</div>"
      ],
      "text/plain": [
       "                                               job_title  biased\n",
       "18884              HEDIS Data Coordinator Job in Chicago      -6\n",
       "19593       Grill Cook -NYLIC-Data Center Job in Lebanon      -6\n",
       "21683      Lead Database Administrator Job in Cincinnati      -5\n",
       "724          Senior Database Administrator Job in Dallas      -5\n",
       "16540                  DB Database Admin Job in Columbus      -5\n",
       "...                                                  ...     ...\n",
       "16344                         Data Analyst Job in Dallas       3\n",
       "1310   Infrastructure Support Architect with Datacent...       3\n",
       "20810           Data Entry Clerk Job in North Palm Beach       4\n",
       "8430                 DC - Part-Time Data Collector - (MN       5\n",
       "17240                   Database Architect Job in Dallas       6\n",
       "\n",
       "[251 rows x 2 columns]"
      ]
     },
     "execution_count": 105,
     "metadata": {},
     "output_type": "execute_result"
    }
   ],
   "source": [
    "df1[[\"job_title\", \"biased\"]][df1.job_title.str.contains(\"Data\")==True].sort_values(\"biased\")\n"
   ]
  },
  {
   "cell_type": "code",
   "execution_count": 101,
   "metadata": {
    "colab": {
     "base_uri": "https://localhost:8080/"
    },
    "id": "xS53CmWJnf6S",
    "outputId": "78386b22-2b66-4f84-b93a-ce2f27013942"
   },
   "outputs": [
    {
     "data": {
      "text/plain": [
       "0                     IT Support Technician Job in Madison\n",
       "1                  Business Reporter/Editor Job in Madison\n",
       "2        Johnson & Johnson Family of Companies Job Appl...\n",
       "3                          Engineer - Quality Job in Dixon\n",
       "4             Shift Supervisor - Part-Time Job in Camphill\n",
       "                               ...                        \n",
       "21995    Assistant Vice President - Controller Job in C...\n",
       "21996                         Accountant Job in Cincinnati\n",
       "21997                      AEM/CQ developer Job in Chicago\n",
       "21998    Electrician - Experienced Forging Electrician ...\n",
       "21999             Contract Administrator Job in Cincinnati\n",
       "Name: job_title, Length: 22000, dtype: object"
      ]
     },
     "execution_count": 101,
     "metadata": {},
     "output_type": "execute_result"
    }
   ],
   "source": [
    "df1.job_title"
   ]
  },
  {
   "cell_type": "code",
   "execution_count": 28,
   "metadata": {
    "id": "fBQ7bbm-lXsi"
   },
   "outputs": [],
   "source": []
  },
  {
   "cell_type": "code",
   "execution_count": 28,
   "metadata": {
    "id": "kkVpfeeFmwfN"
   },
   "outputs": [],
   "source": []
  }
 ],
 "metadata": {
  "colab": {
   "collapsed_sections": [],
   "name": "Fair job search",
   "provenance": []
  },
  "kernelspec": {
   "display_name": "Python 3 (ipykernel)",
   "language": "python",
   "name": "python3"
  },
  "language_info": {
   "codemirror_mode": {
    "name": "ipython",
    "version": 3
   },
   "file_extension": ".py",
   "mimetype": "text/x-python",
   "name": "python",
   "nbconvert_exporter": "python",
   "pygments_lexer": "ipython3",
   "version": "3.8.6"
  },
  "toc": {
   "base_numbering": 1,
   "nav_menu": {},
   "number_sections": true,
   "sideBar": true,
   "skip_h1_title": false,
   "title_cell": "Table of Contents",
   "title_sidebar": "Contents",
   "toc_cell": false,
   "toc_position": {},
   "toc_section_display": true,
   "toc_window_display": false
  },
  "varInspector": {
   "cols": {
    "lenName": 16,
    "lenType": 16,
    "lenVar": 40
   },
   "kernels_config": {
    "python": {
     "delete_cmd_postfix": "",
     "delete_cmd_prefix": "del ",
     "library": "var_list.py",
     "varRefreshCmd": "print(var_dic_list())"
    },
    "r": {
     "delete_cmd_postfix": ") ",
     "delete_cmd_prefix": "rm(",
     "library": "var_list.r",
     "varRefreshCmd": "cat(var_dic_list()) "
    }
   },
   "types_to_exclude": [
    "module",
    "function",
    "builtin_function_or_method",
    "instance",
    "_Feature"
   ],
   "window_display": false
  }
 },
 "nbformat": 4,
 "nbformat_minor": 1
}
